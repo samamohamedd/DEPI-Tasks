{
 "cells": [
  {
   "cell_type": "markdown",
   "metadata": {},
   "source": [
    "## question 1"
   ]
  },
  {
   "cell_type": "code",
   "execution_count": 2,
   "metadata": {},
   "outputs": [
    {
     "name": "stdout",
     "output_type": "stream",
     "text": [
      "3\n"
     ]
    }
   ],
   "source": [
    "def count_vowels(txt):\n",
    "    vowels = ['a', 'e', 'u', 'i', 'o']\n",
    "    txt.lower()\n",
    "    counter = 0\n",
    "    for char in txt:\n",
    "        if char in vowels:\n",
    "            counter += 1\n",
    "    return counter\n",
    "\n",
    "text = \"Hello World\"\n",
    "print(count_vowels(text))"
   ]
  },
  {
   "cell_type": "markdown",
   "metadata": {},
   "source": [
    "## question 2 "
   ]
  },
  {
   "cell_type": "code",
   "execution_count": 4,
   "metadata": {},
   "outputs": [
    {
     "name": "stdout",
     "output_type": "stream",
     "text": [
      "8\n"
     ]
    }
   ],
   "source": [
    "def find_max(nums):\n",
    "    max = nums[0]\n",
    "    for num in nums : \n",
    "        if num > max:  \n",
    "            max = num\n",
    "    return max\n",
    "\n",
    "numbers = [3, 5, 2, 8, 1]\n",
    "print(find_max(numbers))"
   ]
  }
 ],
 "metadata": {
  "kernelspec": {
   "display_name": "base",
   "language": "python",
   "name": "python3"
  },
  "language_info": {
   "codemirror_mode": {
    "name": "ipython",
    "version": 3
   },
   "file_extension": ".py",
   "mimetype": "text/x-python",
   "name": "python",
   "nbconvert_exporter": "python",
   "pygments_lexer": "ipython3",
   "version": "3.11.5"
  }
 },
 "nbformat": 4,
 "nbformat_minor": 2
}
