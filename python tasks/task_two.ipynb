{
 "cells": [
  {
   "cell_type": "markdown",
   "metadata": {},
   "source": [
    "# questions on lists, tuples and dictionaries"
   ]
  },
  {
   "cell_type": "markdown",
   "metadata": {},
   "source": [
    "## question 1"
   ]
  },
  {
   "cell_type": "code",
   "execution_count": 2,
   "metadata": {},
   "outputs": [
    {
     "name": "stdout",
     "output_type": "stream",
     "text": [
      "['Laptop', 'Smartphone']\n"
     ]
    }
   ],
   "source": [
    "def answer(products, threshold): \n",
    "    ans = []\n",
    "    for product in products:\n",
    "        if product[1] > threshold:\n",
    "            ans.append(product[0])\n",
    "    return ans\n",
    "\n",
    "products = [\n",
    "    (\"Laptop\", 1200, 5),\n",
    "    (\"Smartphone\", 700, 10),\n",
    "    (\"Headphones\", 150, 15),\n",
    "    (\"Monitor\", 300, 7)\n",
    "]\n",
    "threshold = 500\n",
    "\n",
    "print(answer(products, threshold))"
   ]
  },
  {
   "cell_type": "markdown",
   "metadata": {},
   "source": [
    "## question 2 "
   ]
  },
  {
   "cell_type": "code",
   "execution_count": 5,
   "metadata": {},
   "outputs": [
    {
     "name": "stdout",
     "output_type": "stream",
     "text": [
      "{101: 55000.0, 102: 69000.0, 103: 55000}\n"
     ]
    }
   ],
   "source": [
    "def ans(salaries, increments):\n",
    "    employees = salaries.keys()\n",
    "    for id, inc in increments:\n",
    "        if id in employees:\n",
    "            salaries[id] += salaries[id]*inc/100\n",
    "    return salaries\n",
    "\n",
    "salaries = {\n",
    "    101: 50000,\n",
    "    102: 60000,\n",
    "    103: 55000\n",
    "}\n",
    "\n",
    "increments = [\n",
    "    (101, 10),\n",
    "    (104, 5),\n",
    "    (102, 15)\n",
    "]\n",
    "print(ans(salaries, increments))"
   ]
  }
 ],
 "metadata": {
  "kernelspec": {
   "display_name": "base",
   "language": "python",
   "name": "python3"
  },
  "language_info": {
   "codemirror_mode": {
    "name": "ipython",
    "version": 3
   },
   "file_extension": ".py",
   "mimetype": "text/x-python",
   "name": "python",
   "nbconvert_exporter": "python",
   "pygments_lexer": "ipython3",
   "version": "3.11.5"
  }
 },
 "nbformat": 4,
 "nbformat_minor": 2
}
